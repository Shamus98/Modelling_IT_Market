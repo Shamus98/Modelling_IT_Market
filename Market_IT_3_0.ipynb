{
  "nbformat": 4,
  "nbformat_minor": 0,
  "metadata": {
    "colab": {
      "provenance": []
    },
    "kernelspec": {
      "name": "python3",
      "display_name": "Python 3"
    },
    "language_info": {
      "name": "python"
    }
  },
  "cells": [
    {
      "cell_type": "code",
      "execution_count": 14,
      "metadata": {
        "id": "SVIH-CRVCMwf"
      },
      "outputs": [],
      "source": [
        "import pandas as pd\n",
        "\n",
        "\n",
        "def human_format(num):\n",
        "    num = float('{:.3g}'.format(num))\n",
        "    magnitude = 0\n",
        "    while abs(num) >= 1000:\n",
        "        magnitude += 1\n",
        "        num /= 1000.0\n",
        "    return '{}{}'.format('{:f}'.format(num).rstrip('0').rstrip('.'), ['', 'K', 'M', 'B', 'T'][magnitude])\n",
        "\n",
        "# column in csv\n",
        "column = 'income'\n",
        "\n",
        "df = pd.read_csv('fns_for_model.csv', delimiter=';')"
      ]
    },
    {
      "cell_type": "code",
      "source": [
        "df_income = df[(df['year'] == 2021) & (df['quarter'] == 3)]\n",
        "income_sum = df_income[column].sum()\n",
        "df2 = df_income.sort_values(by=column, ascending=False)\n",
        "df2['income_hr'] = df2[column].apply(lambda val: human_format(val))"
      ],
      "metadata": {
        "id": "KJebBB8qDMBu"
      },
      "execution_count": 15,
      "outputs": []
    },
    {
      "cell_type": "code",
      "source": [
        "df2[\"revenue_cum\"] = df2[\"income\"].cumsum()"
      ],
      "metadata": {
        "id": "fzTMEGy5bRQz"
      },
      "execution_count": 16,
      "outputs": []
    },
    {
      "cell_type": "code",
      "source": [
        "def cm_to_inch(value):\n",
        "    return value/2.54"
      ],
      "metadata": {
        "id": "Eu3VBrCA3GG2"
      },
      "execution_count": 64,
      "outputs": []
    },
    {
      "cell_type": "code",
      "source": [
        "import matplotlib.pyplot as plt\n",
        "\n",
        "\n",
        "\n",
        "left, width = 0, 1.05\n",
        "bottom, height = 0, 1.05\n",
        "right = left + width\n",
        "top = bottom + height\n",
        "l1 = list(df2['revenue_cum'])\n",
        "fig, ax = plt.subplots()\n",
        "ax.set_xlim(0, 38000)\n",
        "ax.set_ylim(0, l1[-1]*1.1/1000000000)\n",
        "ax.grid()\n",
        "\n",
        "ax.plot(range(0, 36824), df2['revenue_cum']/1000000000, markersize = 3.) #sorted(list(df2['revenue_cum']), reverse=True))\n",
        "#ax.ticklabel_format(useOffset=False, style='plain', axis='both')\n",
        "#plt.ylabel(\"S, млрд.руб.\")\n",
        "ax.text(left, top, 'S, млрд.руб.',\n",
        "        horizontalalignment='left',\n",
        "        verticalalignment='top',\n",
        "        transform=ax.transAxes)\n",
        "plt.vlines(x=764, ymin=0, ymax=l1[764]/1000000000, colors='green',linestyle='solid')\n",
        "plt.vlines(x=1565, ymin=0, ymax=l1[1565]/1000000000, colors='blue',linestyle='solid')\n",
        "plt.hlines(xmin=0, xmax = 764, y=l1[764]/1000000000, colors='green',linestyle='solid')\n",
        "plt.hlines(xmin=0, xmax = 1565, y=l1[1565]/1000000000, colors='blue',linestyle='solid')\n",
        "plt.show()\n",
        "# fig.savefig(\"AS1-ABC-income.eps\",format='eps')\n",
        "# fig.savefig(\"AS1-ABC-income.svg\",format='svg')\n",
        "fig.savefig(\"AS1-ABC-income.png\")"
      ],
      "metadata": {
        "colab": {
          "base_uri": "https://localhost:8080/",
          "height": 276
        },
        "id": "iGICErTIOBHY",
        "outputId": "34d83363-b654-42f0-e333-4a56a3d181cc"
      },
      "execution_count": 71,
      "outputs": [
        {
          "output_type": "display_data",
          "data": {
            "text/plain": [
              "<Figure size 432x288 with 1 Axes>"
            ],
            "image/png": "[encoded data removed]"
          },
          "metadata": {
            "needs_background": "light"
          }
        }
      ]
    },
    {
      "cell_type": "code",
      "source": [
        "l1[36823]"
      ],
      "metadata": {
        "colab": {
          "base_uri": "https://localhost:8080/"
        },
        "id": "QNlgBn0OvV-z",
        "outputId": "ce8104d3-3359-40a7-b5f1-b97e1dfa800f"
      },
      "execution_count": 26,
      "outputs": [
        {
          "output_type": "execute_result",
          "data": {
            "text/plain": [
              "3365269532443.0"
            ]
          },
          "metadata": {},
          "execution_count": 26
        }
      ]
    }
  ]
}